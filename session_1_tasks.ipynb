{
  "nbformat": 4,
  "nbformat_minor": 0,
  "metadata": {
    "colab": {
      "provenance": []
    },
    "kernelspec": {
      "name": "python3",
      "display_name": "Python 3"
    },
    "language_info": {
      "name": "python"
    }
  },
  "cells": [
    {
      "cell_type": "markdown",
      "source": [
        "# Task : Session 1\n",
        "Solve these questions own your own and try to test yourself what you have learned in the session.\n",
        "\n",
        "Happy Learning!"
      ],
      "metadata": {
        "id": "A05OG15VqOPF"
      }
    },
    {
      "cell_type": "markdown",
      "source": [
        "### Q1 :- Print the given strings as per stated format.\n",
        "\n",
        "**Given strings**:\n",
        "```\n",
        "\"Data\" \"Science\" \"Mentorship\" \"Program\"\n",
        "\"By\" \"CampusX\"\n",
        "```\n",
        "**Output**:\n",
        "```\n",
        "Data-Science-Mentorship-Program-started-By-CampusX\n",
        "```\n",
        "\n",
        "Concept- [Seperator and End]"
      ],
      "metadata": {
        "id": "2doIXf8bqe9_"
      }
    },
    {
      "cell_type": "code",
      "source": [
        "print('Data','Science','Mentorship','Program',sep='-',end='-started-')\n",
        "print('By','CampusX',sep='-')"
      ],
      "metadata": {
        "id": "-em6d3KErDtp",
        "colab": {
          "base_uri": "https://localhost:8080/"
        },
        "outputId": "4db8dec1-0fdf-4623-a6be-1caaa2952c8a"
      },
      "execution_count": 3,
      "outputs": [
        {
          "output_type": "stream",
          "name": "stdout",
          "text": [
            "Data-Science-Mentorship-Program-started-By-CampusX\n"
          ]
        }
      ]
    },
    {
      "cell_type": "markdown",
      "source": [
        "### Q2:- Write a program that will convert celsius value to fahrenheit."
      ],
      "metadata": {
        "id": "1KUpN7ZTrC3_"
      }
    },
    {
      "cell_type": "code",
      "source": [
        "x = 'Enter in Celcius: '\n",
        "F = int(input(x))*(9/5)+32\n",
        "print('Farenheit value is: '+ str(F))"
      ],
      "metadata": {
        "id": "yxKYhYQiqWfj",
        "colab": {
          "base_uri": "https://localhost:8080/"
        },
        "outputId": "8b75eb8d-991f-4e2b-fa28-960b60706aa5"
      },
      "execution_count": 11,
      "outputs": [
        {
          "output_type": "stream",
          "name": "stdout",
          "text": [
            "Enter in Celcius: 20\n",
            "Farenheit value is: 68.0\n"
          ]
        }
      ]
    },
    {
      "cell_type": "markdown",
      "source": [
        "### Q3:- Take 2 numbers as input from the user.Write a program to swap the numbers without using any special python syntax."
      ],
      "metadata": {
        "id": "RLrOBBJurLB2"
      }
    },
    {
      "cell_type": "code",
      "source": [
        "input1 = int(input('Type the first number: '))\n",
        "input2 = int(input('Type the second number: '))\n",
        "temp = input1\n",
        "input1 = input2\n",
        "input2 = temp\n",
        "print('First number: ' + str(input1))\n",
        "print('Seconf number: ' + str(input2))"
      ],
      "metadata": {
        "id": "yPn7if0TrJ4F",
        "colab": {
          "base_uri": "https://localhost:8080/"
        },
        "outputId": "97738ad4-f69e-4504-c3f8-2bd0d14ac00e"
      },
      "execution_count": 13,
      "outputs": [
        {
          "output_type": "stream",
          "name": "stdout",
          "text": [
            "Type the first number: 1\n",
            "Type the second number: 2\n",
            "First number: 2\n",
            "Seconf number: 1\n"
          ]
        }
      ]
    },
    {
      "cell_type": "markdown",
      "source": [
        "### Q4:- Write a program to find the euclidean distance between two coordinates.Take both the coordinates from the user as input."
      ],
      "metadata": {
        "id": "waLCP1bjr7ML"
      }
    },
    {
      "cell_type": "code",
      "source": [
        "x1 = int(input('Enter the x1-cordinate: '))\n",
        "x2 = int(input('Enter the x2-cordinate: '))\n",
        "y1 = int(input('Enter the y1-cordinate: '))\n",
        "y2 = int(input('Enter the y2-cordinate: '))\n",
        "\n",
        "E = ((x1-y1)**2 + (x2-y2)**2)**0.5\n",
        "E"
      ],
      "metadata": {
        "colab": {
          "base_uri": "https://localhost:8080/"
        },
        "id": "3ORR0QdMfm8O",
        "outputId": "fe807c57-2bcb-4c20-f15e-f7d068802f5b"
      },
      "execution_count": 14,
      "outputs": [
        {
          "name": "stdout",
          "output_type": "stream",
          "text": [
            "Enter the x1-cordinate: 20\n",
            "Enter the x2-cordinate: 10\n",
            "Enter the y1-cordinate: 30\n",
            "Enter the y2-cordinate: 40\n"
          ]
        },
        {
          "output_type": "execute_result",
          "data": {
            "text/plain": [
              "31.622776601683793"
            ]
          },
          "metadata": {},
          "execution_count": 14
        }
      ]
    },
    {
      "cell_type": "markdown",
      "source": [
        "### Q5:- Write a program to find the simple interest when the value of principle,rate of interest and time period is provided by the user.\n"
      ],
      "metadata": {
        "id": "VLrhg-FRsHjR"
      }
    },
    {
      "cell_type": "code",
      "source": [
        "p =int(input('Enter the Principal_amount: '))\n",
        "r = int(input('Enter the rate_of_interest: '))\n",
        "t = int(input('Enter the time_period: '))\n",
        "\n",
        "SI = p*r*t\n",
        "print('Simple Interest is: ' + str(SI))"
      ],
      "metadata": {
        "id": "s40DlReZsTmY",
        "colab": {
          "base_uri": "https://localhost:8080/"
        },
        "outputId": "003188ca-e592-43bc-85c7-432ab27e9692"
      },
      "execution_count": 16,
      "outputs": [
        {
          "output_type": "stream",
          "name": "stdout",
          "text": [
            "Enter the Principal_amount: 10\n",
            "Enter the rate_of_interest: 20\n",
            "Enter the time_period: 30\n",
            "Simple Interest is: 6000\n"
          ]
        }
      ]
    },
    {
      "cell_type": "markdown",
      "source": [
        "### Q6:- Write a program that will tell the number of dogs and chicken are there when the user will provide the value of total heads and legs.\n",
        "\n",
        "For example:\n",
        "Input:\n",
        "heads -> 4\n",
        "legs -> 12\n",
        "<br>\n",
        "Output:\n",
        "dogs -> 2\n",
        "chicken -> 2\n",
        "\n",
        "\n",
        "\n"
      ],
      "metadata": {
        "id": "LMy0BTUktYKa"
      }
    },
    {
      "cell_type": "code",
      "source": [
        "H = int(input('no. of heads: '))\n",
        "L = int(input('no. of legs: '))\n",
        "\n",
        "c = (L - 2*H)/2\n",
        "d = H - c\n",
        "\n",
        "print('no. of chickens: ' + str(c))\n",
        "print('no. of dogs: ' + str(d))"
      ],
      "metadata": {
        "id": "XSBvJoA4tXaG",
        "colab": {
          "base_uri": "https://localhost:8080/"
        },
        "outputId": "0c87e2ee-57ee-40ee-93a9-e7c02ab0b901"
      },
      "execution_count": 18,
      "outputs": [
        {
          "output_type": "stream",
          "name": "stdout",
          "text": [
            "no. of heads: 4\n",
            "no. of legs: 12\n",
            "no. of chickens: 2.0\n",
            "no. of dogs: 2.0\n"
          ]
        }
      ]
    },
    {
      "cell_type": "markdown",
      "source": [
        "### Q7:- Write a program to find the sum of squares of first n natural numbers where n will be provided by the user."
      ],
      "metadata": {
        "id": "gJ7C5kZYt4BP"
      }
    },
    {
      "cell_type": "code",
      "source": [
        "n = int(input('Enter n: '))\n",
        "sum = (n*(n+1)*(2*n+1))/ 6\n",
        "print(sum)"
      ],
      "metadata": {
        "id": "_tHsmEHzt2nX",
        "colab": {
          "base_uri": "https://localhost:8080/"
        },
        "outputId": "26ce4115-8882-4920-b870-fb7dc2c48365"
      },
      "execution_count": 22,
      "outputs": [
        {
          "output_type": "stream",
          "name": "stdout",
          "text": [
            "Enter n: 10\n",
            "385.0\n"
          ]
        }
      ]
    },
    {
      "cell_type": "markdown",
      "source": [
        "### Q8:- Given the first 2 terms of an Arithmetic Series.Find the Nth term of the series. Assume all inputs are provided by the user."
      ],
      "metadata": {
        "id": "FHrMM7g-yG1h"
      }
    },
    {
      "cell_type": "code",
      "source": [
        "t1 = int(input('Enter the first term: '))\n",
        "t2 = int(input('Enter the second term: '))\n",
        "\n",
        "d = t2-t1\n",
        "n = int(input('Enter the nth position: '))\n",
        "tn = t1+(n-1)*d\n",
        "print(tn)"
      ],
      "metadata": {
        "id": "go4_kmZmyVSx",
        "colab": {
          "base_uri": "https://localhost:8080/"
        },
        "outputId": "84e0ea01-a8b9-45d8-9765-d41df3cb01fd"
      },
      "execution_count": 23,
      "outputs": [
        {
          "output_type": "stream",
          "name": "stdout",
          "text": [
            "Enter the first term: 2\n",
            "Enter the second term: 5\n",
            "Enter the nth position: 10\n",
            "29\n"
          ]
        }
      ]
    },
    {
      "cell_type": "markdown",
      "source": [
        "### Q9:- Given 2 fractions, find the sum of those 2 fractions.Take the numerator and denominator values of the fractions from the user."
      ],
      "metadata": {
        "id": "QgyRX_es1oum"
      }
    },
    {
      "cell_type": "code",
      "source": [
        "f1_num = int(input('Enter first fraction numerator: '))\n",
        "f1_den = int(input('Enter first fraction denominator: '))\n",
        "f2_num = int(input('Enter second fraction numerator: '))\n",
        "f2_den = int(input('Enter second fraction denominator: '))\n",
        "\n",
        "f1 = f1_num/f1_den\n",
        "f2 = f2_num/f2_den\n",
        "\n",
        "f = f1+f2\n",
        "\n",
        "print(f)\n",
        "type(f)"
      ],
      "metadata": {
        "id": "X05xqFS1yW16",
        "colab": {
          "base_uri": "https://localhost:8080/"
        },
        "outputId": "25076c77-ad7a-4878-8c1d-d391fd966004"
      },
      "execution_count": 28,
      "outputs": [
        {
          "output_type": "stream",
          "name": "stdout",
          "text": [
            "Enter first fraction numerator: 1\n",
            "Enter first fraction denominator: 20\n",
            "Enter second fraction numerator: 3\n",
            "Enter second fraction denominator: 20\n",
            "0.2\n"
          ]
        },
        {
          "output_type": "execute_result",
          "data": {
            "text/plain": [
              "float"
            ]
          },
          "metadata": {},
          "execution_count": 28
        }
      ]
    },
    {
      "cell_type": "markdown",
      "source": [
        "### Q10:- Given the height, width and breadth of a milk tank, you have to find out how many glasses of milk can be obtained? Assume all the inputs are provided by the user.\n",
        "\n",
        "\n",
        "\n",
        "Input:<br>\n",
        "Dimensions of the milk tank<br>\n",
        "H = 20cm, L = 20cm, B = 20cm\n",
        "<br><br>\n",
        "Dimensions of the glass<br>\n",
        "h = 3cm, r = 1cm"
      ],
      "metadata": {
        "id": "eaql38ln13u7"
      }
    },
    {
      "cell_type": "code",
      "source": [
        "L = int(input('Enter the Length of tank: '))\n",
        "B = int(input('Enter the Breadth of tank: '))\n",
        "H = int(input('Enter the Height of tank: '))\n",
        "r = int(input('Enter the radius of glass: '))\n",
        "h = int(input('Enter the height of glass: '))\n",
        "\n",
        "V_tank = L*B*H\n",
        "V_glass = 3.14*r**2*H\n",
        "no_of_glasses = V_tank/V_glass\n",
        "print(no_of_glasses)"
      ],
      "metadata": {
        "id": "FePZqno74eWv",
        "colab": {
          "base_uri": "https://localhost:8080/"
        },
        "outputId": "afd0f362-fa8c-40d5-9a0c-81c90dd16d71"
      },
      "execution_count": 31,
      "outputs": [
        {
          "output_type": "stream",
          "name": "stdout",
          "text": [
            "Enter the Length of tank: 20\n",
            "Enter the Breadth of tank: 20\n",
            "Enter the Height of tank: 20\n",
            "Enter the radius of glass: 1\n",
            "Enter the height of glass: 3\n",
            "127.38853503184713\n"
          ]
        }
      ]
    },
    {
      "cell_type": "code",
      "source": [],
      "metadata": {
        "id": "Ea30slZjz_FU"
      },
      "execution_count": null,
      "outputs": []
    }
  ]
}